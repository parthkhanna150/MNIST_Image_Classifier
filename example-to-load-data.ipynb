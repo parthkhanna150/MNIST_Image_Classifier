{
 "cells": [
  {
   "cell_type": "code",
   "execution_count": 1,
   "metadata": {
    "_cell_guid": "b1076dfc-b9ad-4769-8c92-a6c4dae69d19",
    "_uuid": "8f2839f25d086af736a60e9eeb907d3b93b6e0e5"
   },
   "outputs": [
    {
     "name": "stdout",
     "output_type": "stream",
     "text": [
      "['sample_submission.csv', 'train_labels.csv', 'train_images.pkl', 'test_images.pkl']\n"
     ]
    }
   ],
   "source": [
    "# This Python 3 environment comes with many helpful analytics libraries installed\n",
    "# It is defined by the kaggle/python docker image: https://github.com/kaggle/docker-python\n",
    "# For example, here's several helpful packages to load in \n",
    "\n",
    "import numpy as np # linear algebra\n",
    "import pandas as pd # data processing, CSV file I/O (e.g. pd.read_csv)\n",
    "\n",
    "# Input data files are available in the \"../input/\" directory.\n",
    "# For example, running this (by clicking run or pressing Shift+Enter) will list the files in the input directory\n",
    "\n",
    "import os\n",
    "print(os.listdir(\"../input\"))\n",
    "\n",
    "# Any results you write to the current directory are saved as output."
   ]
  },
  {
   "cell_type": "code",
   "execution_count": 2,
   "metadata": {
    "_cell_guid": "79c7e3d0-c299-4dcb-8224-4455121ee9b0",
    "_uuid": "d629ff2d2480ee46fbb7e2d37f6b5fab8052498a"
   },
   "outputs": [],
   "source": [
    "#Files are stored in pickle format.\n",
    "#Load them like how you load any pickle. The data is a numpy array\n",
    "import pandas as pd\n",
    "train_images = pd.read_pickle('../input/train_images.pkl')\n",
    "train_labels = pd.read_csv('../input/train_labels.csv')"
   ]
  },
  {
   "cell_type": "code",
   "execution_count": 3,
   "metadata": {
    "_uuid": "b3c7d8acfc830105a5cf04fb957430c65b644a11"
   },
   "outputs": [
    {
     "data": {
      "text/plain": [
       "(40000, 64, 64)"
      ]
     },
     "execution_count": 3,
     "metadata": {},
     "output_type": "execute_result"
    }
   ],
   "source": [
    "train_images.shape"
   ]
  },
  {
   "cell_type": "code",
   "execution_count": 4,
   "metadata": {
    "_uuid": "e3c1d7b8d0c63e20082273e99aede79da7198f41"
   },
   "outputs": [
    {
     "data": {
      "text/plain": [
       "<matplotlib.image.AxesImage at 0x7f1d05281a90>"
      ]
     },
     "execution_count": 4,
     "metadata": {},
     "output_type": "execute_result"
    }
   ],
   "source": [
    "import matplotlib.pyplot as plt\n",
    "\n",
    "#Let's show image with id 16\n",
    "img_idx = 16\n",
    "\n",
    "plt.title('Label: {}'.format(train_labels.iloc[img_idx]['Category']))\n",
    "plt.imshow(train_images[img_idx])"
   ]
  },
  {
   "cell_type": "markdown",
   "metadata": {},
   "source": [
    "# Imports"
   ]
  },
  {
   "cell_type": "code",
   "execution_count": null,
   "metadata": {},
   "outputs": [],
   "source": [
    "import csv\n",
    "\n",
    "import matplotlib.patches as mpatches\n",
    "\n",
    "from skimage.morphology import label, closing, square\n",
    "from skimage.measure import regionprops\n",
    "from skimage.color import label2rgb\n",
    "from skimage.transform import resize\n",
    "from skimage.color import rgb2gray\n",
    "from skimage import data\n",
    "from skimage.filters import threshold_otsu, threshold_local\n",
    "from skimage.segmentation import clear_border\n",
    "\n",
    "from keras.datasets import mnist\n",
    "from keras.models import Sequential\n",
    "from keras.layers import Dense, Dropout, Activation, Flatten\n",
    "from keras.optimizers import Adam\n",
    "from keras.layers import Conv2D, MaxPooling2D, ZeroPadding2D, GlobalAveragePooling2D\n",
    "from keras.layers.advanced_activations import LeakyReLU \n",
    "from keras.preprocessing.image import ImageDataGenerator\n",
    "from keras.layers.normalization import BatchNormalization\n",
    "from keras.utils import np_utils"
   ]
  },
  {
   "cell_type": "markdown",
   "metadata": {},
   "source": [
    "# Preprocessing"
   ]
  },
  {
   "cell_type": "code",
   "execution_count": 6,
   "metadata": {
    "_uuid": "0a773eb3e19b2e35292f2a8103bd1ce838aa3dd7"
   },
   "outputs": [],
   "source": [
    "def preprocess(x, imgDim):\n",
    "    finalData = np.zeros(shape=(x.shape[0], imgDim, imgDim))\n",
    "    #Loop through every image in provided data\n",
    "    for n in range(x.shape[0]):\n",
    "\n",
    "        #Binarizing the image\n",
    "        currImg = np.array(x[n])\n",
    "        currImg[currImg != 255] = 0 #Non-black pixel--> threshold as a 0.\n",
    "        currImg[currImg == 255] = 1 #255 intensity --> threshold as a 1.\n",
    "        binarizedImg = currImg # >= thresh\n",
    "        labelledCompImg = label(binarizedImg)  #Labels each connected component in binarized image\n",
    "\n",
    "        biggestRegion = regionprops(labelledCompImg) #initialize current maximum connected component\n",
    "        prevLen = 0\n",
    "        #For every connected component, check if it's the biggest in the image.\n",
    "        for region in regionprops(labelledCompImg):\n",
    "            minRow, minCol, maxRow, maxCol = region.bbox #find bounding box\n",
    "            length = max(abs(minRow-maxRow), abs(minCol-maxCol))\n",
    "            if length > prevLen: #compare length of bounding boxes in img\n",
    "                prevLen = length\n",
    "                biggestRegion = region\n",
    "\n",
    "        #Isolate the largest component by cropping it's bounding box\n",
    "        minRow, minCol, maxRow, maxCol = biggestRegion['BoundingBox']\n",
    "        isolatedNum = binarizedImg[min(minRow,maxRow):max(minRow,maxRow), min(minCol,maxCol):max(minCol,maxCol)]\n",
    "        \n",
    "        #Transform to new dimensions 28x28\n",
    "        finalData[n] = resize(isolatedNum, (imgDim,imgDim))\n",
    "\n",
    "        if (n%2000 == 0):\n",
    "            print(\"Currently on example #: \", n)\n",
    "            \n",
    "    return finalData"
   ]
  },
  {
   "cell_type": "markdown",
   "metadata": {},
   "source": [
    "# Data Splitting & Encoding"
   ]
  },
  {
   "cell_type": "code",
   "execution_count": 9,
   "metadata": {},
   "outputs": [
    {
     "name": "stdout",
     "output_type": "stream",
     "text": [
      "Currently on example #:  0\n",
      "(800, 28, 28)\n"
     ]
    },
    {
     "data": {
      "text/plain": [
       "<matplotlib.image.AxesImage at 0x7f1ce52f47b8>"
      ]
     },
     "execution_count": 9,
     "metadata": {},
     "output_type": "execute_result"
    },
    {
     "data": {
      "image/png": "[encoded data removed]",
      "text/plain": [
       "<Figure size 432x288 with 1 Axes>"
      ]
     },
     "metadata": {
      "needs_background": "light"
     },
     "output_type": "display_data"
    }
   ],
   "source": [
    "xTrain = preprocess(train_images[0:1000], 28) #[0:1000] is just for quick testing, remove for whole training.\n",
    "\n",
    "yTrain = []\n",
    "with open(\"../input/train_labels.csv\", \"r\") as csv_file: #Because this was quicker than Panda\n",
    "    csv_reader = csv.reader(csv_file, delimiter=',')\n",
    "    for lines in csv_reader:\n",
    "        yTrain.append(lines[1])\n",
    "yTrain.remove('Category')\n",
    "\n",
    "#Set the below for the entire 40000 training examples.\n",
    "x_train = xTrain[0:800]\n",
    "y_train = yTrain[0:800]\n",
    "x_valid = xTrain[801:1000]\n",
    "y_valid = yTrain[801:1000]\n",
    "\n",
    "print(x_train.shape)\n",
    "plt.imshow(x_train[img_idx])"
   ]
  },
  {
   "cell_type": "code",
   "execution_count": 8,
   "metadata": {},
   "outputs": [],
   "source": [
    "#Reshape for encoding.\n",
    "x_train = x_train.reshape(x_train.shape[0], 28, 28, 1)\n",
    "x_valid = x_valid.reshape(x_valid.shape[0], 28, 28, 1)\n",
    "\n",
    "#One-hot encoding\n",
    "number_of_classes = 10\n",
    "y_train = np.array(np_utils.to_categorical(y_train, number_of_classes))\n",
    "y_valid = np.array(np_utils.to_categorical(y_valid, number_of_classes))"
   ]
  },
  {
   "cell_type": "code",
   "execution_count": null,
   "metadata": {},
   "outputs": [],
   "source": []
  }
 ],
 "metadata": {
  "kernelspec": {
   "display_name": "Python 3",
   "language": "python",
   "name": "python3"
  },
  "language_info": {
   "codemirror_mode": {
    "name": "ipython",
    "version": 3
   },
   "file_extension": ".py",
   "mimetype": "text/x-python",
   "name": "python",
   "nbconvert_exporter": "python",
   "pygments_lexer": "ipython3",
   "version": "3.6.7"
  }
 },
 "nbformat": 4,
 "nbformat_minor": 1
}
