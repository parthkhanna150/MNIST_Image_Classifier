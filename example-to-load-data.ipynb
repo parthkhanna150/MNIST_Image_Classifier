{
 "cells": [
  {
   "cell_type": "code",
   "execution_count": 10,
   "metadata": {
    "_cell_guid": "b1076dfc-b9ad-4769-8c92-a6c4dae69d19",
    "_uuid": "8f2839f25d086af736a60e9eeb907d3b93b6e0e5"
   },
   "outputs": [
    {
     "name": "stdout",
     "output_type": "stream",
     "text": [
      "['sample_submission.csv', 'train_labels.csv', 'train_images.pkl', 'test_images.pkl']\n"
     ]
    }
   ],
   "source": [
    "# This Python 3 environment comes with many helpful analytics libraries installed\n",
    "# It is defined by the kaggle/python docker image: https://github.com/kaggle/docker-python\n",
    "# For example, here's several helpful packages to load in \n",
    "\n",
    "import numpy as np # linear algebra\n",
    "import pandas as pd # data processing, CSV file I/O (e.g. pd.read_csv)\n",
    "\n",
    "# Input data files are available in the \"../input/\" directory.\n",
    "# For example, running this (by clicking run or pressing Shift+Enter) will list the files in the input directory\n",
    "\n",
    "import os\n",
    "print(os.listdir(\"../input\"))\n",
    "\n",
    "# Any results you write to the current directory are saved as output."
   ]
  },
  {
   "cell_type": "code",
   "execution_count": 11,
   "metadata": {
    "_cell_guid": "79c7e3d0-c299-4dcb-8224-4455121ee9b0",
    "_uuid": "d629ff2d2480ee46fbb7e2d37f6b5fab8052498a"
   },
   "outputs": [],
   "source": [
    "#Files are stored in pickle format.\n",
    "#Load them like how you load any pickle. The data is a numpy array\n",
    "import pandas as pd\n",
    "train_images = pd.read_pickle('../input/train_images.pkl')\n",
    "train_labels = pd.read_csv('../input/train_labels.csv')"
   ]
  },
  {
   "cell_type": "code",
   "execution_count": 12,
   "metadata": {
    "_uuid": "b3c7d8acfc830105a5cf04fb957430c65b644a11"
   },
   "outputs": [
    {
     "data": {
      "text/plain": [
       "(40000, 64, 64)"
      ]
     },
     "execution_count": 12,
     "metadata": {},
     "output_type": "execute_result"
    }
   ],
   "source": [
    "train_images.shape"
   ]
  },
  {
   "cell_type": "code",
   "execution_count": 13,
   "metadata": {
    "_uuid": "e3c1d7b8d0c63e20082273e99aede79da7198f41"
   },
   "outputs": [
    {
     "data": {
      "image/png": "[encoded data removed]",
      "text/plain": [
       "<Figure size 432x288 with 1 Axes>"
      ]
     },
     "metadata": {
      "needs_background": "light"
     },
     "output_type": "display_data"
    }
   ],
   "source": [
    "import matplotlib.pyplot as plt\n",
    "\n",
    "#Let's show image with id 16\n",
    "img_idx = 200\n",
    "\n",
    "plt.title('Label: {}'.format(train_labels.iloc[img_idx]['Category']))\n",
    "plt.imshow(train_images[img_idx])\n",
    "plt.show()"
   ]
  },
  {
   "cell_type": "markdown",
   "metadata": {},
   "source": [
    "# Imports"
   ]
  },
  {
   "cell_type": "code",
   "execution_count": 14,
   "metadata": {},
   "outputs": [],
   "source": [
    "import csv\n",
    "\n",
    "import matplotlib.patches as mpatches\n",
    "\n",
    "from skimage.morphology import label, closing, square\n",
    "from skimage.measure import regionprops\n",
    "from skimage.color import label2rgb\n",
    "from skimage.transform import resize, rotate\n",
    "from skimage.color import rgb2gray\n",
    "from skimage import data\n",
    "from skimage.filters import threshold_otsu, threshold_local\n",
    "from skimage.segmentation import clear_border\n",
    "\n",
    "from sklearn.model_selection import train_test_split\n",
    "\n",
    "from keras.datasets import mnist\n",
    "from keras.models import Sequential\n",
    "from keras.layers import Dense, Dropout, Activation, Flatten\n",
    "from keras.optimizers import Adam\n",
    "from keras.layers import Conv2D, MaxPooling2D, ZeroPadding2D, GlobalAveragePooling2D\n",
    "from keras.layers.advanced_activations import LeakyReLU \n",
    "from keras.preprocessing.image import ImageDataGenerator\n",
    "from keras.layers.normalization import BatchNormalization\n",
    "from keras.utils import np_utils"
   ]
  },
  {
   "cell_type": "markdown",
   "metadata": {},
   "source": [
    "# Preprocessing"
   ]
  },
  {
   "cell_type": "code",
   "execution_count": 15,
   "metadata": {
    "_uuid": "0a773eb3e19b2e35292f2a8103bd1ce838aa3dd7"
   },
   "outputs": [],
   "source": [
    "def preprocess(x, imgDim, labels):\n",
    "    finalData = np.zeros(shape=(x.shape[0], imgDim, imgDim))\n",
    "    finImgs = np.zeros(shape=(x.shape[0] * 4, imgDim, imgDim))\n",
    "    finLabels = []\n",
    "    #Loop through every image in provided data\n",
    "    for n in range(x.shape[0]):\n",
    "\n",
    "        #Binarizing the image\n",
    "        currImg = np.array(x[n])\n",
    "        currImg[currImg != 255] = 0 #Non-black pixel--> threshold as a 0.\n",
    "        currImg[currImg == 255] = 1 #255 intensity --> threshold as a 1.\n",
    "        binarizedImg = currImg # >= thresh\n",
    "        labelledCompImg = label(binarizedImg)  #Labels each connected component in binarized image\n",
    "\n",
    "        biggestRegion = regionprops(labelledCompImg) #initialize current maximum connected component\n",
    "        prevLen = 0\n",
    "        #For every connected component, check if it's the biggest in the image.\n",
    "        for region in regionprops(labelledCompImg):\n",
    "            minRow, minCol, maxRow, maxCol = region.bbox #find bounding box\n",
    "            length = max(abs(minRow-maxRow), abs(minCol-maxCol))\n",
    "            if length > prevLen: #compare length of bounding boxes in img\n",
    "                prevLen = length\n",
    "                biggestRegion = region\n",
    "\n",
    "        #Isolate the largest component by cropping it's bounding box\n",
    "        minRow, minCol, maxRow, maxCol = biggestRegion['BoundingBox']\n",
    "        isolatedNum = binarizedImg[min(minRow,maxRow):max(minRow,maxRow), min(minCol,maxCol):max(minCol,maxCol)]\n",
    "        \n",
    "        #Transform to new dimensions 28x28\n",
    "        finalData[n] = resize(isolatedNum, (imgDim,imgDim))\n",
    "        \n",
    "        #Rotate and copy the data 4 times, duplicate the labels 4 times\n",
    "        for i in range(4):\n",
    "            idx = 4 * n + i\n",
    "            finImgs[idx] = rotate(finalData[n], 90 * i)\n",
    "            finLabels.append(labels[n])\n",
    "\n",
    "        if (n%2000 == 0):\n",
    "            print(\"Currently on example #: \", n)\n",
    "            \n",
    "    return finImgs, finLabels"
   ]
  },
  {
   "cell_type": "markdown",
   "metadata": {},
   "source": [
    "# Data Splitting & Encoding"
   ]
  },
  {
   "cell_type": "code",
   "execution_count": 18,
   "metadata": {},
   "outputs": [],
   "source": [
    "#Read labels and store them\n",
    "yTrain = []\n",
    "with open(\"../input/train_labels.csv\", \"r\") as csv_file: #Because this was quicker than Panda\n",
    "    csv_reader = csv.reader(csv_file, delimiter=',')\n",
    "    for lines in csv_reader:\n",
    "        yTrain.append(lines[1])\n",
    "yTrain.remove('Category')"
   ]
  },
  {
   "cell_type": "code",
   "execution_count": 19,
   "metadata": {},
   "outputs": [
    {
     "name": "stdout",
     "output_type": "stream",
     "text": [
      "Currently on example #:  0\n"
     ]
    }
   ],
   "source": [
    "#Run the data through the preprocessor \n",
    "xTrain, yTrain = preprocess(train_images[0:1000], 28, yTrain[0:1000]) #[0:1000] is just for quick testing, remove for whole training."
   ]
  },
  {
   "cell_type": "code",
   "execution_count": 20,
   "metadata": {},
   "outputs": [],
   "source": [
    "#Validation split \n",
    "x_train, x_valid, y_train, y_valid = train_test_split(xTrain, yTrain, test_size=0.2)"
   ]
  },
  {
   "cell_type": "code",
   "execution_count": 21,
   "metadata": {},
   "outputs": [
    {
     "name": "stdout",
     "output_type": "stream",
     "text": [
      "(4000, 28, 28)\n",
      "4000\n",
      "3\n"
     ]
    },
    {
     "data": {
      "image/png": "[encoded data removed]",
      "text/plain": [
       "<Figure size 432x288 with 1 Axes>"
      ]
     },
     "metadata": {
      "needs_background": "light"
     },
     "output_type": "display_data"
    }
   ],
   "source": [
    "#Testing \n",
    "print(xTrain.shape)\n",
    "print(len(yTrain))\n",
    "plt.imshow(xTrain[img_idx*4])\n",
    "print(yTrain[img_idx*4])"
   ]
  },
  {
   "cell_type": "code",
   "execution_count": 22,
   "metadata": {},
   "outputs": [],
   "source": [
    "#Reshape for encoding.\n",
    "x_train = x_train.reshape(x_train.shape[0], 28, 28, 1)\n",
    "x_valid = x_valid.reshape(x_valid.shape[0], 28, 28, 1)\n",
    "\n",
    "#One-hot encoding\n",
    "number_of_classes = 10\n",
    "y_train = np.array(np_utils.to_categorical(y_train, number_of_classes))\n",
    "y_valid = np.array(np_utils.to_categorical(y_valid, number_of_classes))"
   ]
  },
  {
   "cell_type": "markdown",
   "metadata": {},
   "source": [
    "# Example #1 from https://github.com/keras-team/keras/blob/master/examples/mnist_cnn.py"
   ]
  },
  {
   "cell_type": "code",
   "execution_count": 23,
   "metadata": {},
   "outputs": [
    {
     "name": "stdout",
     "output_type": "stream",
     "text": [
      "(3200, 28, 28, 1)\n",
      "Epoch 1/1\n",
      "781/781 [==============================] - 237s 304ms/step - loss: 1.2763 - acc: 0.5695 - val_loss: 0.8055 - val_acc: 0.7475\n",
      "800/800 [==============================] - 1s 1ms/step\n",
      "\n",
      "Validation accuracy:  0.7475\n"
     ]
    }
   ],
   "source": [
    "model = Sequential()\n",
    "\n",
    "model = Sequential()\n",
    "model.add(Conv2D(32, kernel_size=(3, 3), activation='relu', input_shape=(28,28,1)))\n",
    "model.add(Conv2D(64, (3, 3), activation='relu'))\n",
    "model.add(MaxPooling2D(pool_size=(2, 2)))\n",
    "model.add(Dropout(0.25))\n",
    "model.add(Flatten())\n",
    "model.add(Dense(128, activation='relu'))\n",
    "model.add(Dropout(0.5))\n",
    "model.add(Dense(10, activation='softmax'))\n",
    "\n",
    "model.compile(loss='categorical_crossentropy', optimizer=Adam(), metrics=['accuracy'])\n",
    "\n",
    "gen = ImageDataGenerator(    width_shift_range = 0.075,\n",
    "    height_shift_range = 0.075,\n",
    "    rotation_range = 12,\n",
    "    shear_range = 0.075,\n",
    "    zoom_range = 0.05,\n",
    "    fill_mode = 'constant',\n",
    "    cval = 0)\n",
    "\n",
    "test_gen = ImageDataGenerator()\n",
    "\n",
    "print(x_train.shape)\n",
    "train_generator = gen.flow(x_train, y_train, batch_size=64)\n",
    "test_generator = test_gen.flow(x_valid, y_valid, batch_size=64)\n",
    "\n",
    "model.fit_generator(train_generator, steps_per_epoch=50000//64, epochs=1, #epochs should be 2\n",
    "                    validation_data=test_generator, validation_steps=10000//64)\n",
    "\n",
    "score = model.evaluate(x_valid, y_valid)\n",
    "print()\n",
    "print('Validation accuracy: ', score[1])"
   ]
  },
  {
   "cell_type": "code",
   "execution_count": 18,
   "metadata": {},
   "outputs": [
    {
     "ename": "IndexError",
     "evalue": "list index out of range",
     "output_type": "error",
     "traceback": [
      "\u001b[0;31m---------------------------------------------------------------------------\u001b[0m",
      "\u001b[0;31mIndexError\u001b[0m                                Traceback (most recent call last)",
      "\u001b[0;32m<ipython-input-18-fecf0a73c696>\u001b[0m in \u001b[0;36m<module>\u001b[0;34m\u001b[0m\n\u001b[0;32m----> 1\u001b[0;31m \u001b[0mprint\u001b[0m\u001b[0;34m(\u001b[0m\u001b[0;34m'Validation accuracy: '\u001b[0m\u001b[0;34m,\u001b[0m \u001b[0mscore\u001b[0m\u001b[0;34m[\u001b[0m\u001b[0;36m0\u001b[0m\u001b[0;34m]\u001b[0m\u001b[0;34m)\u001b[0m\u001b[0;34m\u001b[0m\u001b[0;34m\u001b[0m\u001b[0m\n\u001b[0m",
      "\u001b[0;31mIndexError\u001b[0m: list index out of range"
     ]
    }
   ],
   "source": [
    "print('Validation accuracy: ', score[0])"
   ]
  },
  {
   "cell_type": "markdown",
   "metadata": {},
   "source": [
    "# Example 2"
   ]
  },
  {
   "cell_type": "code",
   "execution_count": 11,
   "metadata": {},
   "outputs": [
    {
     "name": "stdout",
     "output_type": "stream",
     "text": [
      "(800, 28, 28, 1)\n",
      "Epoch 1/2\n",
      "781/781 [==============================] - 309s 396ms/step - loss: 0.1750 - acc: 0.9475 - val_loss: 0.7170 - val_acc: 0.8744\n",
      "Epoch 2/2\n",
      "781/781 [==============================] - 333s 427ms/step - loss: 0.0289 - acc: 0.9919 - val_loss: 0.9798 - val_acc: 0.8291\n",
      "199/199 [==============================] - 0s 2ms/step\n",
      "\n",
      "Validation accuracy:  0.8291457286432161\n"
     ]
    }
   ],
   "source": [
    "model = Sequential()\n",
    "\n",
    "model.add(Conv2D(32, (3, 3), input_shape=(28,28,1)))\n",
    "model.add(BatchNormalization(axis=-1))\n",
    "model.add(Activation('relu'))\n",
    "model.add(Conv2D(32, (3, 3)))\n",
    "model.add(BatchNormalization(axis=-1))\n",
    "model.add(Activation('relu'))\n",
    "model.add(MaxPooling2D(pool_size=(2,2)))\n",
    "\n",
    "model.add(Conv2D(64,(3, 3)))\n",
    "model.add(BatchNormalization(axis=-1))\n",
    "model.add(Activation('relu'))\n",
    "model.add(Conv2D(64, (3, 3)))\n",
    "model.add(BatchNormalization(axis=-1))\n",
    "model.add(Activation('relu'))\n",
    "model.add(MaxPooling2D(pool_size=(2,2)))\n",
    "\n",
    "model.add(Flatten())\n",
    "\n",
    "# Fully connected layer\n",
    "model.add(Dense(512))\n",
    "model.add(BatchNormalization())\n",
    "model.add(Activation('relu'))\n",
    "model.add(Dropout(0.2))\n",
    "model.add(Dense(10))\n",
    "\n",
    "model.add(Activation('softmax'))\n",
    "\n",
    "model.compile(loss='categorical_crossentropy', optimizer=Adam(), metrics=['accuracy'])\n",
    "\n",
    "gen = ImageDataGenerator(    width_shift_range = 0.075,\n",
    "    height_shift_range = 0.075,\n",
    "    rotation_range = 12,\n",
    "    shear_range = 0.075,\n",
    "    zoom_range = 0.05,\n",
    "    fill_mode = 'constant',\n",
    "    cval = 0)\n",
    "\n",
    "test_gen = ImageDataGenerator()\n",
    "\n",
    "\n",
    "print(x_train.shape)\n",
    "train_generator = gen.flow(x_train, y_train, batch_size=64)\n",
    "test_generator = test_gen.flow(x_valid, y_valid, batch_size=64)\n",
    "\n",
    "model.fit_generator(train_generator, steps_per_epoch=50000//64, epochs=2, \n",
    "                    validation_data=test_generator, validation_steps=10000//64)\n",
    "\n",
    "score = model.evaluate(x_valid, y_valid)\n",
    "print()\n",
    "print('Validation accuracy: ', score[1])"
   ]
  }
 ],
 "metadata": {
  "kernelspec": {
   "display_name": "Python 3",
   "language": "python",
   "name": "python3"
  },
  "language_info": {
   "codemirror_mode": {
    "name": "ipython",
    "version": 3
   },
   "file_extension": ".py",
   "mimetype": "text/x-python",
   "name": "python",
   "nbconvert_exporter": "python",
   "pygments_lexer": "ipython3",
   "version": "3.6.7"
  }
 },
 "nbformat": 4,
 "nbformat_minor": 1
}
