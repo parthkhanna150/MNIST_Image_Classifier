{
  "nbformat": 4,
  "nbformat_minor": 0,
  "metadata": {
    "colab": {
      "name": "hope_to_beat_akshal_score.ipynb",
      "version": "0.3.2",
      "provenance": [],
      "include_colab_link": true
    },
    "kernelspec": {
      "name": "python3",
      "display_name": "Python 3"
    },
    "accelerator": "GPU"
  },
  "cells": [
    {
      "cell_type": "markdown",
      "metadata": {
        "id": "view-in-github",
        "colab_type": "text"
      },
      "source": [
        "<a href=\"https://colab.research.google.com/github/parthkhanna150/MNIST_Image_Classifier/blob/master/hope_to_beat_akshal_score.ipynb\" target=\"_parent\"><img src=\"https://colab.research.google.com/assets/colab-badge.svg\" alt=\"Open In Colab\"/></a>"
      ]
    },
    {
      "metadata": {
        "id": "SHUNBynemaKy",
        "colab_type": "code",
        "colab": {
          "resources": {
            "http://localhost:8080/nbextensions/google.colab/files.js": {
              "data": "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",
              "ok": true,
              "headers": [
                [
                  "content-type",
                  "application/javascript"
                ]
              ],
              "status": 200,
              "status_text": ""
            }
          },
          "base_uri": "https://localhost:8080/",
          "height": 108
        },
        "outputId": "ffce1fe8-3ab3-4cc7-d0e2-4b492305fe32"
      },
      "cell_type": "code",
      "source": [
        "from google.colab import files\n",
        "files.upload()"
      ],
      "execution_count": 2,
      "outputs": [
        {
          "output_type": "display_data",
          "data": {
            "text/html": [
              "\n",
              "     <input type=\"file\" id=\"files-113d229e-a655-4439-8c9e-1bb45729015e\" name=\"files[]\" multiple disabled />\n",
              "     <output id=\"result-113d229e-a655-4439-8c9e-1bb45729015e\">\n",
              "      Upload widget is only available when the cell has been executed in the\n",
              "      current browser session. Please rerun this cell to enable.\n",
              "      </output>\n",
              "      <script src=\"/nbextensions/google.colab/files.js\"></script> "
            ],
            "text/plain": [
              "<IPython.core.display.HTML object>"
            ]
          },
          "metadata": {
            "tags": []
          }
        },
        {
          "output_type": "stream",
          "text": [
            "Saving kaggle.json to kaggle.json\n"
          ],
          "name": "stdout"
        },
        {
          "output_type": "execute_result",
          "data": {
            "text/plain": [
              "{'kaggle.json': b'{\"username\":\"parthkhanna378\",\"key\":\"ba271b325be1a9c38db29ee662602060\"}'}"
            ]
          },
          "metadata": {
            "tags": []
          },
          "execution_count": 2
        }
      ]
    },
    {
      "metadata": {
        "id": "YWbQiM2DmsXU",
        "colab_type": "code",
        "colab": {
          "base_uri": "https://localhost:8080/",
          "height": 34
        },
        "outputId": "327e7e5e-c16e-48ec-9b4d-5e1af0391ada"
      },
      "cell_type": "code",
      "source": [
        "!mkdir -p ~/.kaggle\n",
        "!cp kaggle.json ~/.kaggle/\n",
        "!chmod 600 ~/.kaggle/kaggle.json\n",
        "!ls ~/.kaggle"
      ],
      "execution_count": 3,
      "outputs": [
        {
          "output_type": "stream",
          "text": [
            "kaggle.json\n"
          ],
          "name": "stdout"
        }
      ]
    },
    {
      "metadata": {
        "id": "cK5_k25mmuD1",
        "colab_type": "code",
        "colab": {
          "base_uri": "https://localhost:8080/",
          "height": 170
        },
        "outputId": "b6feac0b-ff4e-49df-b978-9851c806085e"
      },
      "cell_type": "code",
      "source": [
        "!ls -l ~/.kaggle\n",
        "!cat ~/.kaggle/kaggle.json\n",
        "!pip install -q kaggle\n",
        "!pip install -q kaggle-cli"
      ],
      "execution_count": 4,
      "outputs": [
        {
          "output_type": "stream",
          "text": [
            "total 4\n",
            "-rw------- 1 root root 70 Mar 16 03:49 kaggle.json\n",
            "\u001b[K    100% |████████████████████████████████| 81kB 3.2MB/s \n",
            "\u001b[K    100% |████████████████████████████████| 5.3MB 5.4MB/s \n",
            "\u001b[K    100% |████████████████████████████████| 92kB 24.5MB/s \n",
            "\u001b[K    100% |████████████████████████████████| 51kB 17.1MB/s \n",
            "\u001b[?25h  Building wheel for kaggle-cli (setup.py) ... \u001b[?25ldone\n",
            "\u001b[?25h  Building wheel for cliff (setup.py) ... \u001b[?25ldone\n",
            "\u001b[?25h  Building wheel for pyperclip (setup.py) ... \u001b[?25ldone\n",
            "\u001b[?25h"
          ],
          "name": "stdout"
        }
      ]
    },
    {
      "metadata": {
        "id": "YLwkNN67mvsK",
        "colab_type": "code",
        "colab": {
          "base_uri": "https://localhost:8080/",
          "height": 221
        },
        "outputId": "fc9e9f05-e1bf-4c46-e14e-766336673019"
      },
      "cell_type": "code",
      "source": [
        "!kaggle competitions download -c comp-551-w2019-project-3-modified-mnist"
      ],
      "execution_count": 6,
      "outputs": [
        {
          "output_type": "stream",
          "text": [
            "Downloading train_labels.csv to /content\n",
            "\r  0% 0.00/302k [00:00<?, ?B/s]\n",
            "\r100% 302k/302k [00:00<00:00, 41.0MB/s]\n",
            "Downloading test_images.pkl.zip to /content\n",
            " 88% 39.0M/44.1M [00:00<00:00, 105MB/s] \n",
            "100% 44.1M/44.1M [00:00<00:00, 127MB/s]\n",
            "Downloading train_images.pkl.zip to /content\n",
            "100% 177M/177M [00:01<00:00, 163MB/s]\n",
            "\n",
            "Downloading sample_submission.csv to /content\n",
            "  0% 0.00/67.3k [00:00<?, ?B/s]\n",
            "100% 67.3k/67.3k [00:00<00:00, 62.6MB/s]\n"
          ],
          "name": "stdout"
        }
      ]
    },
    {
      "metadata": {
        "id": "aHFIBxB1mwVt",
        "colab_type": "code",
        "colab": {
          "base_uri": "https://localhost:8080/",
          "height": 136
        },
        "outputId": "4309be38-2acd-4883-f837-8008454bee84"
      },
      "cell_type": "code",
      "source": [
        "!ls -l --block-size=M"
      ],
      "execution_count": 7,
      "outputs": [
        {
          "output_type": "stream",
          "text": [
            "total 222M\n",
            "-rw-r--r-- 1 root root   1M Mar 16 03:49 kaggle.json\n",
            "drwxr-xr-x 1 root root   1M Mar  8 17:26 sample_data\n",
            "-rw-r--r-- 1 root root   1M Mar 16 03:49 sample_submission.csv\n",
            "-rw-r--r-- 1 root root  45M Mar 16 03:49 test_images.pkl.zip\n",
            "-rw-r--r-- 1 root root 177M Mar 16 03:49 train_images.pkl.zip\n",
            "-rw-r--r-- 1 root root   1M Mar 16 03:49 train_labels.csv\n"
          ],
          "name": "stdout"
        }
      ]
    },
    {
      "metadata": {
        "id": "z_cfTaDqmx2f",
        "colab_type": "code",
        "colab": {
          "base_uri": "https://localhost:8080/",
          "height": 85
        },
        "outputId": "0ff0c110-e30e-4fb2-f1a9-eab770bac4df"
      },
      "cell_type": "code",
      "source": [
        "!unzip train_images.pkl.zip\n",
        "!unzip test_images.pkl.zip"
      ],
      "execution_count": 8,
      "outputs": [
        {
          "output_type": "stream",
          "text": [
            "Archive:  train_images.pkl.zip\n",
            "  inflating: train_images.pkl        \n",
            "Archive:  test_images.pkl.zip\n",
            "  inflating: test_images.pkl         \n"
          ],
          "name": "stdout"
        }
      ]
    },
    {
      "metadata": {
        "id": "GOlHqOJOmmzu",
        "colab_type": "code",
        "colab": {}
      },
      "cell_type": "code",
      "source": [
        "import pandas as pd\n",
        "import numpy as np\n",
        "import matplotlib.pyplot as plt\n",
        "import matplotlib.image as mpimg\n",
        "import seaborn as sns\n",
        "np.random.seed(2)\n",
        "from sklearn.model_selection import train_test_split\n",
        "from sklearn.metrics import confusion_matrix\n",
        "import itertools\n",
        "from keras.utils.np_utils import to_categorical # convert to one-hot-encoding\n",
        "from keras.models import Sequential\n",
        "from keras.layers import Dense, Dropout, Flatten, Conv2D, MaxPool2D\n",
        "from keras.optimizers import RMSprop\n",
        "from keras.preprocessing.image import ImageDataGenerator\n",
        "from keras.callbacks import ReduceLROnPlateau\n",
        "sns.set(style='white', context='notebook', palette='deep')\n",
        "import pickle\n",
        "import csv\n",
        "from __future__ import print_function\n",
        "import keras\n",
        "from keras.datasets import mnist\n",
        "from keras.models import Sequential\n",
        "from keras.layers import Dense, Dropout, Flatten\n",
        "from keras.layers import Conv2D, MaxPooling2D\n",
        "from keras import backend as K\n",
        "\n",
        "import matplotlib.patches as mpatches\n",
        "\n",
        "from skimage.morphology import label, closing, square\n",
        "from skimage.measure import regionprops\n",
        "from skimage.color import label2rgb\n",
        "from skimage.transform import resize, rotate\n",
        "from skimage.color import rgb2gray\n",
        "from skimage import data\n",
        "from skimage.filters import threshold_otsu, threshold_local\n",
        "from skimage.segmentation import clear_border\n",
        "\n",
        "from sklearn.model_selection import train_test_split\n",
        "\n",
        "from keras.datasets import mnist\n",
        "from keras.models import Sequential\n",
        "from keras.layers import Dense, Dropout, Activation, Flatten\n",
        "from keras.optimizers import Adam\n",
        "from keras.layers import Conv2D, MaxPooling2D, ZeroPadding2D, GlobalAveragePooling2D\n",
        "from keras.layers.advanced_activations import LeakyReLU \n",
        "from keras.preprocessing.image import ImageDataGenerator\n",
        "from keras.layers.normalization import BatchNormalization\n",
        "from keras.utils import np_utils"
      ],
      "execution_count": 0,
      "outputs": []
    },
    {
      "metadata": {
        "id": "yr8fJbecmaK7",
        "colab_type": "code",
        "colab": {}
      },
      "cell_type": "code",
      "source": [
        "infile = open('./train_images.pkl','rb')\n",
        "train_images = pickle.load(infile)\n",
        "\n",
        "infile = open('./test_images.pkl','rb')\n",
        "test_images = pickle.load(infile)\n",
        "\n",
        "train_labels = pd.read_csv('./train_labels.csv')"
      ],
      "execution_count": 0,
      "outputs": []
    },
    {
      "metadata": {
        "id": "yLcYq-tFn4hw",
        "colab_type": "code",
        "colab": {
          "base_uri": "https://localhost:8080/",
          "height": 34
        },
        "outputId": "e5986638-a7e2-4f7e-9b8f-e694431696d7"
      },
      "cell_type": "code",
      "source": [
        "train_images.shape"
      ],
      "execution_count": 58,
      "outputs": [
        {
          "output_type": "execute_result",
          "data": {
            "text/plain": [
              "(40000, 64, 64)"
            ]
          },
          "metadata": {
            "tags": []
          },
          "execution_count": 58
        }
      ]
    },
    {
      "metadata": {
        "id": "65-ucL6moC7T",
        "colab_type": "code",
        "colab": {
          "base_uri": "https://localhost:8080/",
          "height": 362
        },
        "outputId": "d06c7034-693e-4cb7-dad3-019f30052870"
      },
      "cell_type": "code",
      "source": [
        "import matplotlib.pyplot as plt\n",
        "\n",
        "#Let's show image with id 16\n",
        "img_idx = 200\n",
        "\n",
        "plt.title('Label: {}'.format(train_labels.iloc[img_idx]['Category']))\n",
        "plt.imshow(train_images[img_idx])\n",
        "plt.show()"
      ],
      "execution_count": 59,
      "outputs": [
        {
          "output_type": "display_data",
          "data": {
            "image/png": "[encoded data removed]",
            "text/plain": [
              "<Figure size 576x396 with 1 Axes>"
            ]
          },
          "metadata": {
            "tags": []
          }
        }
      ]
    },
    {
      "metadata": {
        "id": "q11o8ECAoFs1",
        "colab_type": "code",
        "colab": {}
      },
      "cell_type": "code",
      "source": [
        "from __future__ import print_function\n",
        "import keras\n",
        "from keras.datasets import mnist\n",
        "from keras.models import Sequential\n",
        "from keras.layers import Dense, Dropout, Flatten\n",
        "from keras.layers import Conv2D, MaxPooling2D\n",
        "from keras import backend as K"
      ],
      "execution_count": 0,
      "outputs": []
    },
    {
      "metadata": {
        "id": "XcihmM0qoO6G",
        "colab_type": "code",
        "colab": {}
      },
      "cell_type": "code",
      "source": [
        "batch_size = 128\n",
        "num_classes = 10\n",
        "epochs = 12\n",
        "seed = 7\n",
        "np.random.seed(seed)\n",
        "img_rows, img_cols = 28, 28"
      ],
      "execution_count": 0,
      "outputs": []
    },
    {
      "metadata": {
        "id": "Ithz4dxOoYrv",
        "colab_type": "code",
        "colab": {}
      },
      "cell_type": "code",
      "source": [
        "def preprocess(x, imgDim):\n",
        "    finalData = np.zeros(shape=(x.shape[0], imgDim, imgDim))\n",
        "    #Loop through every image in provided data\n",
        "    for n in range(x.shape[0]):\n",
        "\n",
        "        #Binarizing the image\n",
        "        currImg = np.array(x[n])\n",
        "        currImg[currImg != 255] = 0 #Non-black pixel--> threshold as a 0.\n",
        "        currImg[currImg == 255] = 1 #255 intensity --> threshold as a 1.\n",
        "        binarizedImg = currImg # >= thresh\n",
        "        labelledCompImg = label(binarizedImg)  #Labels each connected component in binarized image\n",
        "\n",
        "        biggestRegion = regionprops(labelledCompImg) #initialize current maximum connected component\n",
        "        prevLen = 0\n",
        "        #For every connected component, check if it's the biggest in the image.\n",
        "        for region in regionprops(labelledCompImg):\n",
        "            minRow, minCol, maxRow, maxCol = region.bbox #find bounding box\n",
        "            length = max(abs(minRow-maxRow), abs(minCol-maxCol))\n",
        "            if length > prevLen: #compare length of bounding boxes in img\n",
        "                prevLen = length\n",
        "                biggestRegion = region\n",
        "\n",
        "        #Isolate the largest component by cropping it's bounding box\n",
        "        minRow, minCol, maxRow, maxCol = biggestRegion['BoundingBox']\n",
        "        isolatedNum = binarizedImg[min(minRow,maxRow):max(minRow,maxRow), min(minCol,maxCol):max(minCol,maxCol)]\n",
        "        \n",
        "        #Transform to new dimensions 28x28\n",
        "        finalData[n] = resize(isolatedNum, (imgDim,imgDim))\n",
        "        \n",
        "        if (n%2000 == 0):\n",
        "            print(\"Currently on example #: \", n)\n",
        "            \n",
        "    return finalData"
      ],
      "execution_count": 0,
      "outputs": []
    },
    {
      "metadata": {
        "id": "tCF7LJJAokuc",
        "colab_type": "code",
        "colab": {}
      },
      "cell_type": "code",
      "source": [
        "yTrain = []\n",
        "with open(\"train_labels.csv\", \"r\") as csv_file: #Because this was quicker than Panda\n",
        "    csv_reader = csv.reader(csv_file, delimiter=',')\n",
        "    for lines in csv_reader:\n",
        "        yTrain.append(lines[1])\n",
        "yTrain.remove('Category')"
      ],
      "execution_count": 0,
      "outputs": []
    },
    {
      "metadata": {
        "id": "DJtFQq7Ro6tw",
        "colab_type": "code",
        "colab": {
          "base_uri": "https://localhost:8080/",
          "height": 411
        },
        "outputId": "83af6582-be33-4c95-e061-1f1783fd241a"
      },
      "cell_type": "code",
      "source": [
        "xTrain = preprocess(train_images, 28) "
      ],
      "execution_count": 64,
      "outputs": [
        {
          "output_type": "stream",
          "text": [
            "/usr/local/lib/python3.6/dist-packages/skimage/transform/_warps.py:84: UserWarning: The default mode, 'constant', will be changed to 'reflect' in skimage 0.15.\n",
            "  warn(\"The default mode, 'constant', will be changed to 'reflect' in \"\n"
          ],
          "name": "stderr"
        },
        {
          "output_type": "stream",
          "text": [
            "Currently on example #:  0\n",
            "Currently on example #:  2000\n",
            "Currently on example #:  4000\n",
            "Currently on example #:  6000\n",
            "Currently on example #:  8000\n",
            "Currently on example #:  10000\n",
            "Currently on example #:  12000\n",
            "Currently on example #:  14000\n",
            "Currently on example #:  16000\n",
            "Currently on example #:  18000\n",
            "Currently on example #:  20000\n",
            "Currently on example #:  22000\n",
            "Currently on example #:  24000\n",
            "Currently on example #:  26000\n",
            "Currently on example #:  28000\n",
            "Currently on example #:  30000\n",
            "Currently on example #:  32000\n",
            "Currently on example #:  34000\n",
            "Currently on example #:  36000\n",
            "Currently on example #:  38000\n"
          ],
          "name": "stdout"
        }
      ]
    },
    {
      "metadata": {
        "id": "QJpWc-1_p1Lc",
        "colab_type": "code",
        "colab": {}
      },
      "cell_type": "code",
      "source": [
        "x_train, x_test, y_train, y_test = train_test_split(xTrain, yTrain, test_size=0.1, random_state=seed)"
      ],
      "execution_count": 0,
      "outputs": []
    },
    {
      "metadata": {
        "id": "p5DmKrM_p9_R",
        "colab_type": "code",
        "colab": {}
      },
      "cell_type": "code",
      "source": [
        "if K.image_data_format() == 'channels_first':\n",
        "    x_train = x_train.reshape(x_train.shape[0], 1, img_rows, img_cols)\n",
        "    x_test = x_test.reshape(x_test.shape[0], 1, img_rows, img_cols)\n",
        "    input_shape = (1, img_rows, img_cols)\n",
        "else:\n",
        "    x_train = x_train.reshape(x_train.shape[0], img_rows, img_cols, 1)\n",
        "    x_test = x_test.reshape(x_test.shape[0], img_rows, img_cols, 1)\n",
        "    input_shape = (img_rows, img_cols, 1)\n"
      ],
      "execution_count": 0,
      "outputs": []
    },
    {
      "metadata": {
        "id": "s8ryjFejp_Dz",
        "colab_type": "code",
        "colab": {
          "base_uri": "https://localhost:8080/",
          "height": 68
        },
        "outputId": "b22d4589-18d7-4c2e-b9b9-db6d9e4aba88"
      },
      "cell_type": "code",
      "source": [
        "x_train = x_train.astype('float32')\n",
        "x_test = x_test.astype('float32')\n",
        "print('x_train shape:', x_train.shape)\n",
        "print(x_train.shape[0], 'train samples')\n",
        "print(x_test.shape[0], 'test samples')\n",
        "y_train = keras.utils.to_categorical(y_train, num_classes)\n",
        "y_test = keras.utils.to_categorical(y_test, num_classes)\n"
      ],
      "execution_count": 67,
      "outputs": [
        {
          "output_type": "stream",
          "text": [
            "x_train shape: (36000, 28, 28, 1)\n",
            "36000 train samples\n",
            "4000 test samples\n"
          ],
          "name": "stdout"
        }
      ]
    },
    {
      "metadata": {
        "id": "YGziV5_PqL89",
        "colab_type": "code",
        "colab": {}
      },
      "cell_type": "code",
      "source": [
        "model = Sequential()\n",
        "model.add(Conv2D(32, kernel_size=(3, 3),\n",
        "                 activation='relu',\n",
        "                 input_shape=input_shape))\n",
        "model.add(Conv2D(64, (3, 3), activation='relu'))\n",
        "model.add(MaxPooling2D(pool_size=(2, 2)))\n",
        "model.add(Dropout(0.25))\n",
        "model.add(Flatten())\n",
        "model.add(Dense(128, activation='relu'))\n",
        "model.add(Dropout(0.5))\n",
        "model.add(Dense(num_classes, activation='softmax'))\n",
        "\n",
        "model.compile(loss='categorical_crossentropy',\n",
        "              optimizer=keras.optimizers.Adadelta(),\n",
        "              metrics=['accuracy'])\n"
      ],
      "execution_count": 0,
      "outputs": []
    },
    {
      "metadata": {
        "id": "oSdRTshQqQum",
        "colab_type": "code",
        "colab": {
          "base_uri": "https://localhost:8080/",
          "height": 3488
        },
        "outputId": "d7dd6eaf-ffbf-4090-9a80-e180be784b3f"
      },
      "cell_type": "code",
      "source": [
        "model.fit(x_train, y_train,\n",
        "          batch_size=batch_size,\n",
        "          epochs=100,\n",
        "          verbose=1,\n",
        "          validation_data=(x_test, y_test))\n",
        "score = model.evaluate(x_test, y_test, verbose=0)\n",
        "print('Test loss:', score[0])\n",
        "print('Test accuracy:', score[1])\n"
      ],
      "execution_count": 71,
      "outputs": [
        {
          "output_type": "stream",
          "text": [
            "Train on 36000 samples, validate on 4000 samples\n",
            "Epoch 1/100\n",
            "36000/36000 [==============================] - 6s 158us/step - loss: 0.1502 - acc: 0.9566 - val_loss: 0.3586 - val_acc: 0.9383\n",
            "Epoch 2/100\n",
            "36000/36000 [==============================] - 6s 155us/step - loss: 0.1509 - acc: 0.9571 - val_loss: 0.3516 - val_acc: 0.9393\n",
            "Epoch 3/100\n",
            "36000/36000 [==============================] - 6s 154us/step - loss: 0.1447 - acc: 0.9601 - val_loss: 0.3074 - val_acc: 0.9305\n",
            "Epoch 4/100\n",
            "36000/36000 [==============================] - 6s 154us/step - loss: 0.1457 - acc: 0.9568 - val_loss: 0.3276 - val_acc: 0.9293\n",
            "Epoch 5/100\n",
            "36000/36000 [==============================] - 6s 155us/step - loss: 0.1444 - acc: 0.9582 - val_loss: 0.3078 - val_acc: 0.9317\n",
            "Epoch 6/100\n",
            "36000/36000 [==============================] - 6s 154us/step - loss: 0.1468 - acc: 0.9572 - val_loss: 0.3471 - val_acc: 0.9350\n",
            "Epoch 7/100\n",
            "36000/36000 [==============================] - 6s 155us/step - loss: 0.1457 - acc: 0.9573 - val_loss: 0.3808 - val_acc: 0.9373\n",
            "Epoch 8/100\n",
            "36000/36000 [==============================] - 6s 153us/step - loss: 0.1435 - acc: 0.9580 - val_loss: 0.3537 - val_acc: 0.9160\n",
            "Epoch 9/100\n",
            "36000/36000 [==============================] - 6s 154us/step - loss: 0.1418 - acc: 0.9587 - val_loss: 0.3319 - val_acc: 0.9323\n",
            "Epoch 10/100\n",
            "36000/36000 [==============================] - 6s 154us/step - loss: 0.1442 - acc: 0.9589 - val_loss: 0.3772 - val_acc: 0.9343\n",
            "Epoch 11/100\n",
            "36000/36000 [==============================] - 6s 155us/step - loss: 0.1464 - acc: 0.9579 - val_loss: 0.4198 - val_acc: 0.9365\n",
            "Epoch 12/100\n",
            "36000/36000 [==============================] - 6s 154us/step - loss: 0.1416 - acc: 0.9598 - val_loss: 0.4206 - val_acc: 0.9330\n",
            "Epoch 13/100\n",
            "36000/36000 [==============================] - 6s 153us/step - loss: 0.1399 - acc: 0.9592 - val_loss: 0.3408 - val_acc: 0.9137\n",
            "Epoch 14/100\n",
            "36000/36000 [==============================] - 6s 153us/step - loss: 0.1389 - acc: 0.9606 - val_loss: 0.3970 - val_acc: 0.9360\n",
            "Epoch 15/100\n",
            "36000/36000 [==============================] - 6s 155us/step - loss: 0.1378 - acc: 0.9599 - val_loss: 0.4335 - val_acc: 0.9325\n",
            "Epoch 16/100\n",
            "36000/36000 [==============================] - 6s 154us/step - loss: 0.1350 - acc: 0.9609 - val_loss: 0.3161 - val_acc: 0.9233\n",
            "Epoch 17/100\n",
            "36000/36000 [==============================] - 6s 155us/step - loss: 0.1392 - acc: 0.9593 - val_loss: 0.3189 - val_acc: 0.9280\n",
            "Epoch 18/100\n",
            "36000/36000 [==============================] - 6s 155us/step - loss: 0.1402 - acc: 0.9605 - val_loss: 0.3952 - val_acc: 0.9390\n",
            "Epoch 19/100\n",
            "36000/36000 [==============================] - 6s 155us/step - loss: 0.1450 - acc: 0.9580 - val_loss: 0.3742 - val_acc: 0.9165\n",
            "Epoch 20/100\n",
            "36000/36000 [==============================] - 6s 154us/step - loss: 0.1421 - acc: 0.9587 - val_loss: 0.3075 - val_acc: 0.9313\n",
            "Epoch 21/100\n",
            "36000/36000 [==============================] - 6s 155us/step - loss: 0.1389 - acc: 0.9604 - val_loss: 0.3409 - val_acc: 0.9315\n",
            "Epoch 22/100\n",
            "36000/36000 [==============================] - 6s 154us/step - loss: 0.1355 - acc: 0.9625 - val_loss: 0.4199 - val_acc: 0.9325\n",
            "Epoch 23/100\n",
            "36000/36000 [==============================] - 6s 155us/step - loss: 0.1436 - acc: 0.9596 - val_loss: 0.3879 - val_acc: 0.9345\n",
            "Epoch 24/100\n",
            "36000/36000 [==============================] - 6s 155us/step - loss: 0.1386 - acc: 0.9602 - val_loss: 0.3305 - val_acc: 0.9347\n",
            "Epoch 25/100\n",
            "36000/36000 [==============================] - 6s 155us/step - loss: 0.1417 - acc: 0.9601 - val_loss: 0.3108 - val_acc: 0.9313\n",
            "Epoch 26/100\n",
            "36000/36000 [==============================] - 6s 155us/step - loss: 0.1403 - acc: 0.9604 - val_loss: 0.3702 - val_acc: 0.9335\n",
            "Epoch 27/100\n",
            "36000/36000 [==============================] - 6s 154us/step - loss: 0.1351 - acc: 0.9613 - val_loss: 0.3548 - val_acc: 0.9175\n",
            "Epoch 28/100\n",
            "36000/36000 [==============================] - 6s 155us/step - loss: 0.1334 - acc: 0.9620 - val_loss: 0.3672 - val_acc: 0.9355\n",
            "Epoch 29/100\n",
            "36000/36000 [==============================] - 6s 155us/step - loss: 0.1371 - acc: 0.9604 - val_loss: 0.3225 - val_acc: 0.9325\n",
            "Epoch 30/100\n",
            "36000/36000 [==============================] - 6s 155us/step - loss: 0.1381 - acc: 0.9614 - val_loss: 0.3439 - val_acc: 0.9327\n",
            "Epoch 31/100\n",
            "36000/36000 [==============================] - 6s 155us/step - loss: 0.1381 - acc: 0.9612 - val_loss: 0.4313 - val_acc: 0.9317\n",
            "Epoch 32/100\n",
            "36000/36000 [==============================] - 6s 155us/step - loss: 0.1392 - acc: 0.9604 - val_loss: 0.4297 - val_acc: 0.9337\n",
            "Epoch 33/100\n",
            "36000/36000 [==============================] - 6s 154us/step - loss: 0.1357 - acc: 0.9619 - val_loss: 0.3947 - val_acc: 0.9347\n",
            "Epoch 34/100\n",
            "36000/36000 [==============================] - 6s 155us/step - loss: 0.1375 - acc: 0.9606 - val_loss: 0.4163 - val_acc: 0.9330\n",
            "Epoch 35/100\n",
            "36000/36000 [==============================] - 6s 154us/step - loss: 0.1331 - acc: 0.9622 - val_loss: 0.3595 - val_acc: 0.9370\n",
            "Epoch 36/100\n",
            "36000/36000 [==============================] - 6s 154us/step - loss: 0.1359 - acc: 0.9596 - val_loss: 0.4641 - val_acc: 0.9343\n",
            "Epoch 37/100\n",
            "36000/36000 [==============================] - 6s 155us/step - loss: 0.1400 - acc: 0.9607 - val_loss: 0.3779 - val_acc: 0.9340\n",
            "Epoch 38/100\n",
            "36000/36000 [==============================] - 6s 154us/step - loss: 0.1381 - acc: 0.9621 - val_loss: 0.4961 - val_acc: 0.8845\n",
            "Epoch 39/100\n",
            "36000/36000 [==============================] - 6s 155us/step - loss: 0.1322 - acc: 0.9614 - val_loss: 0.3099 - val_acc: 0.9247\n",
            "Epoch 40/100\n",
            "36000/36000 [==============================] - 6s 156us/step - loss: 0.1300 - acc: 0.9631 - val_loss: 0.4085 - val_acc: 0.9357\n",
            "Epoch 41/100\n",
            "36000/36000 [==============================] - 6s 155us/step - loss: 0.1316 - acc: 0.9624 - val_loss: 0.3513 - val_acc: 0.9185\n",
            "Epoch 42/100\n",
            "36000/36000 [==============================] - 6s 155us/step - loss: 0.1350 - acc: 0.9627 - val_loss: 0.4248 - val_acc: 0.9343\n",
            "Epoch 43/100\n",
            "36000/36000 [==============================] - 6s 156us/step - loss: 0.1339 - acc: 0.9620 - val_loss: 0.3274 - val_acc: 0.9265\n",
            "Epoch 44/100\n",
            "36000/36000 [==============================] - 6s 154us/step - loss: 0.1321 - acc: 0.9625 - val_loss: 0.3651 - val_acc: 0.9357\n",
            "Epoch 45/100\n",
            "36000/36000 [==============================] - 6s 155us/step - loss: 0.1310 - acc: 0.9630 - val_loss: 0.3937 - val_acc: 0.9380\n",
            "Epoch 46/100\n",
            "36000/36000 [==============================] - 6s 155us/step - loss: 0.1386 - acc: 0.9617 - val_loss: 0.3799 - val_acc: 0.9325\n",
            "Epoch 47/100\n",
            "36000/36000 [==============================] - 6s 153us/step - loss: 0.1292 - acc: 0.9638 - val_loss: 0.3696 - val_acc: 0.9327\n",
            "Epoch 48/100\n",
            "36000/36000 [==============================] - 6s 154us/step - loss: 0.1293 - acc: 0.9645 - val_loss: 0.3535 - val_acc: 0.9067\n",
            "Epoch 49/100\n",
            "36000/36000 [==============================] - 6s 155us/step - loss: 0.1319 - acc: 0.9629 - val_loss: 0.4119 - val_acc: 0.9330\n",
            "Epoch 50/100\n",
            "36000/36000 [==============================] - 6s 155us/step - loss: 0.1269 - acc: 0.9631 - val_loss: 0.4298 - val_acc: 0.9333\n",
            "Epoch 51/100\n",
            "36000/36000 [==============================] - 6s 155us/step - loss: 0.1247 - acc: 0.9647 - val_loss: 0.4057 - val_acc: 0.9355\n",
            "Epoch 52/100\n",
            "36000/36000 [==============================] - 6s 155us/step - loss: 0.1282 - acc: 0.9627 - val_loss: 0.3865 - val_acc: 0.9335\n",
            "Epoch 53/100\n",
            "36000/36000 [==============================] - 6s 154us/step - loss: 0.1267 - acc: 0.9631 - val_loss: 0.3953 - val_acc: 0.9337\n",
            "Epoch 54/100\n",
            "36000/36000 [==============================] - 6s 155us/step - loss: 0.1310 - acc: 0.9633 - val_loss: 0.4227 - val_acc: 0.8992\n",
            "Epoch 55/100\n",
            "36000/36000 [==============================] - 6s 154us/step - loss: 0.1294 - acc: 0.9634 - val_loss: 0.4127 - val_acc: 0.9325\n",
            "Epoch 56/100\n",
            "36000/36000 [==============================] - 6s 155us/step - loss: 0.1243 - acc: 0.9646 - val_loss: 0.4281 - val_acc: 0.9375\n",
            "Epoch 57/100\n",
            "36000/36000 [==============================] - 6s 153us/step - loss: 0.1220 - acc: 0.9644 - val_loss: 0.3375 - val_acc: 0.9320\n",
            "Epoch 58/100\n",
            "36000/36000 [==============================] - 6s 155us/step - loss: 0.1282 - acc: 0.9633 - val_loss: 0.3682 - val_acc: 0.9327\n",
            "Epoch 59/100\n",
            "36000/36000 [==============================] - 6s 156us/step - loss: 0.1226 - acc: 0.9651 - val_loss: 0.3173 - val_acc: 0.9290\n",
            "Epoch 60/100\n",
            "36000/36000 [==============================] - 6s 154us/step - loss: 0.1226 - acc: 0.9647 - val_loss: 0.4092 - val_acc: 0.9365\n",
            "Epoch 61/100\n",
            "36000/36000 [==============================] - 6s 155us/step - loss: 0.1255 - acc: 0.9646 - val_loss: 0.3973 - val_acc: 0.9340\n",
            "Epoch 62/100\n",
            "36000/36000 [==============================] - 6s 156us/step - loss: 0.1226 - acc: 0.9649 - val_loss: 0.4181 - val_acc: 0.9325\n",
            "Epoch 63/100\n",
            "36000/36000 [==============================] - 6s 155us/step - loss: 0.1259 - acc: 0.9652 - val_loss: 0.3619 - val_acc: 0.9310\n",
            "Epoch 64/100\n",
            "36000/36000 [==============================] - 6s 154us/step - loss: 0.1238 - acc: 0.9649 - val_loss: 0.4202 - val_acc: 0.9333\n",
            "Epoch 65/100\n",
            "36000/36000 [==============================] - 6s 156us/step - loss: 0.1222 - acc: 0.9650 - val_loss: 0.4730 - val_acc: 0.9287\n",
            "Epoch 66/100\n",
            "36000/36000 [==============================] - 6s 154us/step - loss: 0.1183 - acc: 0.9655 - val_loss: 0.3744 - val_acc: 0.9360\n",
            "Epoch 67/100\n",
            "36000/36000 [==============================] - 6s 155us/step - loss: 0.1217 - acc: 0.9649 - val_loss: 0.3508 - val_acc: 0.9323\n",
            "Epoch 68/100\n",
            "36000/36000 [==============================] - 6s 154us/step - loss: 0.1209 - acc: 0.9648 - val_loss: 0.3186 - val_acc: 0.9340\n",
            "Epoch 69/100\n",
            "36000/36000 [==============================] - 5s 153us/step - loss: 0.1214 - acc: 0.9654 - val_loss: 0.4137 - val_acc: 0.9367\n",
            "Epoch 70/100\n",
            "36000/36000 [==============================] - 6s 153us/step - loss: 0.1227 - acc: 0.9658 - val_loss: 0.3782 - val_acc: 0.9355\n",
            "Epoch 71/100\n",
            "36000/36000 [==============================] - 6s 154us/step - loss: 0.1218 - acc: 0.9648 - val_loss: 0.3930 - val_acc: 0.9353\n",
            "Epoch 72/100\n",
            "36000/36000 [==============================] - 6s 155us/step - loss: 0.1182 - acc: 0.9667 - val_loss: 0.4719 - val_acc: 0.9337\n",
            "Epoch 73/100\n",
            "36000/36000 [==============================] - 6s 156us/step - loss: 0.1198 - acc: 0.9660 - val_loss: 0.4501 - val_acc: 0.9355\n",
            "Epoch 74/100\n",
            "36000/36000 [==============================] - 6s 155us/step - loss: 0.1156 - acc: 0.9659 - val_loss: 0.3978 - val_acc: 0.9337\n",
            "Epoch 75/100\n",
            "36000/36000 [==============================] - 6s 155us/step - loss: 0.1160 - acc: 0.9654 - val_loss: 0.3867 - val_acc: 0.9350\n",
            "Epoch 76/100\n",
            "36000/36000 [==============================] - 6s 155us/step - loss: 0.1123 - acc: 0.9673 - val_loss: 0.4222 - val_acc: 0.9345\n",
            "Epoch 77/100\n",
            "36000/36000 [==============================] - 6s 154us/step - loss: 0.1151 - acc: 0.9671 - val_loss: 0.3901 - val_acc: 0.9325\n",
            "Epoch 78/100\n",
            "36000/36000 [==============================] - 6s 155us/step - loss: 0.1138 - acc: 0.9667 - val_loss: 0.4212 - val_acc: 0.9333\n",
            "Epoch 79/100\n",
            "36000/36000 [==============================] - 6s 154us/step - loss: 0.1180 - acc: 0.9670 - val_loss: 0.3424 - val_acc: 0.9290\n",
            "Epoch 80/100\n",
            "36000/36000 [==============================] - 6s 155us/step - loss: 0.1142 - acc: 0.9664 - val_loss: 0.4103 - val_acc: 0.9325\n",
            "Epoch 81/100\n",
            "36000/36000 [==============================] - 6s 155us/step - loss: 0.1189 - acc: 0.9655 - val_loss: 0.4243 - val_acc: 0.9333\n",
            "Epoch 82/100\n",
            "36000/36000 [==============================] - 6s 156us/step - loss: 0.1147 - acc: 0.9674 - val_loss: 0.3553 - val_acc: 0.9343\n",
            "Epoch 83/100\n",
            "36000/36000 [==============================] - 6s 154us/step - loss: 0.1183 - acc: 0.9666 - val_loss: 0.4270 - val_acc: 0.9337\n",
            "Epoch 84/100\n",
            "36000/36000 [==============================] - 6s 155us/step - loss: 0.1127 - acc: 0.9683 - val_loss: 0.4235 - val_acc: 0.9373\n",
            "Epoch 85/100\n",
            "36000/36000 [==============================] - 6s 155us/step - loss: 0.1149 - acc: 0.9671 - val_loss: 0.4620 - val_acc: 0.9333\n",
            "Epoch 86/100\n",
            "36000/36000 [==============================] - 6s 155us/step - loss: 0.1123 - acc: 0.9678 - val_loss: 0.4088 - val_acc: 0.9343\n",
            "Epoch 87/100\n",
            "36000/36000 [==============================] - 6s 154us/step - loss: 0.1167 - acc: 0.9661 - val_loss: 0.4890 - val_acc: 0.9360\n",
            "Epoch 88/100\n",
            "36000/36000 [==============================] - 6s 155us/step - loss: 0.1098 - acc: 0.9686 - val_loss: 0.4290 - val_acc: 0.9333\n",
            "Epoch 89/100\n",
            "36000/36000 [==============================] - 6s 154us/step - loss: 0.1088 - acc: 0.9688 - val_loss: 0.3151 - val_acc: 0.9305\n",
            "Epoch 90/100\n",
            "36000/36000 [==============================] - 6s 155us/step - loss: 0.1113 - acc: 0.9683 - val_loss: 0.4272 - val_acc: 0.9330\n",
            "Epoch 91/100\n",
            "36000/36000 [==============================] - 6s 154us/step - loss: 0.1067 - acc: 0.9688 - val_loss: 0.4423 - val_acc: 0.9357\n",
            "Epoch 92/100\n",
            "36000/36000 [==============================] - 6s 155us/step - loss: 0.1086 - acc: 0.9694 - val_loss: 0.3878 - val_acc: 0.9385\n",
            "Epoch 93/100\n",
            "36000/36000 [==============================] - 6s 155us/step - loss: 0.1084 - acc: 0.9677 - val_loss: 0.4477 - val_acc: 0.9350\n",
            "Epoch 94/100\n",
            "36000/36000 [==============================] - 6s 156us/step - loss: 0.1050 - acc: 0.9701 - val_loss: 0.3261 - val_acc: 0.9273\n",
            "Epoch 95/100\n",
            "36000/36000 [==============================] - 6s 154us/step - loss: 0.1130 - acc: 0.9674 - val_loss: 0.3178 - val_acc: 0.9270\n",
            "Epoch 96/100\n",
            "36000/36000 [==============================] - 6s 155us/step - loss: 0.1141 - acc: 0.9687 - val_loss: 0.3887 - val_acc: 0.9345\n",
            "Epoch 97/100\n",
            "36000/36000 [==============================] - 6s 156us/step - loss: 0.1040 - acc: 0.9694 - val_loss: 0.4588 - val_acc: 0.9357\n",
            "Epoch 98/100\n",
            "36000/36000 [==============================] - 6s 155us/step - loss: 0.1085 - acc: 0.9682 - val_loss: 0.4167 - val_acc: 0.9365\n",
            "Epoch 99/100\n",
            "36000/36000 [==============================] - 6s 155us/step - loss: 0.1094 - acc: 0.9694 - val_loss: 0.4537 - val_acc: 0.9340\n",
            "Epoch 100/100\n",
            "36000/36000 [==============================] - 6s 155us/step - loss: 0.1089 - acc: 0.9693 - val_loss: 0.4506 - val_acc: 0.9355\n",
            "Test loss: 0.45061747504456434\n",
            "Test accuracy: 0.9355\n"
          ],
          "name": "stdout"
        }
      ]
    },
    {
      "metadata": {
        "id": "CQidtvD8qRUK",
        "colab_type": "code",
        "colab": {}
      },
      "cell_type": "code",
      "source": [
        ""
      ],
      "execution_count": 0,
      "outputs": []
    }
  ]
}